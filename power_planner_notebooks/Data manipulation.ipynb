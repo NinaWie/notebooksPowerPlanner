{
 "cells": [
  {
   "cell_type": "code",
   "execution_count": 1,
   "metadata": {},
   "outputs": [],
   "source": [
    "import rasterio\n",
    "import PIL\n",
    "import numpy as np\n",
    "import matplotlib.pyplot as plt\n",
    "import os"
   ]
  },
  {
   "cell_type": "code",
   "execution_count": 4,
   "metadata": {},
   "outputs": [
    {
     "data": {
      "text/plain": [
       "False"
      ]
     },
     "execution_count": 4,
     "metadata": {},
     "output_type": "execute_result"
    }
   ],
   "source": [
    "os.path.exists(\"../../data/Instance_DE.nosync/A_1_Siedlungsflaeche_100.tif\")"
   ]
  },
  {
   "cell_type": "markdown",
   "metadata": {},
   "source": [
    "### Load single tif"
   ]
  },
  {
   "cell_type": "code",
   "execution_count": 5,
   "metadata": {},
   "outputs": [
    {
     "name": "stdout",
     "output_type": "stream",
     "text": [
      "True\n"
     ]
    }
   ],
   "source": [
    "fp = \"../../data/Instance_DE.nosync/A_1_Siedlungsflaeche_100m.tif\"\n",
    "with rasterio.open(fp, 'r') as ds:\n",
    "    layer1 = ds.read()[0]\n",
    "fp = \"../../data/Instance_DE.nosync/A_1_Siedlungsflaeche_150m.tif\"\n",
    "with rasterio.open(fp, 'r') as ds:\n",
    "    layer2 = ds.read()[0]\n",
    "print(np.all(layer1==layer2))"
   ]
  },
  {
   "cell_type": "code",
   "execution_count": 6,
   "metadata": {},
   "outputs": [
    {
     "data": {
      "text/plain": [
       "((array([0., 1.], dtype=float32), array([10904458,   561092])),\n",
       " (array([0., 1.], dtype=float32), array([10904458,   561092])))"
      ]
     },
     "execution_count": 6,
     "metadata": {},
     "output_type": "execute_result"
    }
   ],
   "source": [
    "np.unique(layer1, return_counts = True), np.unique(layer2, return_counts = True)"
   ]
  },
  {
   "cell_type": "code",
   "execution_count": null,
   "metadata": {},
   "outputs": [],
   "source": [
    "np.where(layer<0)"
   ]
  },
  {
   "cell_type": "markdown",
   "metadata": {},
   "source": [
    "### Check which layers are in folder but not in the csv"
   ]
  },
  {
   "cell_type": "code",
   "execution_count": null,
   "metadata": {},
   "outputs": [],
   "source": [
    "weights = pd.read_csv(\"/Users/ninawiedemann/Desktop/thesis/data/instance_de.nosync/layer_weights.csv\")\n",
    "layers = weights[\"Layer Name\"].values\n",
    "files = os.listdir(\"/Users/ninawiedemann/Desktop/thesis/data/instance_de.nosync/tif_layers\")\n",
    "for f in files:\n",
    "    if f[:-4] not in layers:\n",
    "        print(f)"
   ]
  },
  {
   "cell_type": "markdown",
   "metadata": {},
   "source": [
    "### Adjust config"
   ]
  },
  {
   "cell_type": "code",
   "execution_count": 45,
   "metadata": {},
   "outputs": [
    {
     "name": "stdout",
     "output_type": "stream",
     "text": [
      "namespace(CABLE_FORBIDDEN=0, CORR_PATH='corridor/Corridor.tif', COST_PATH='COSTSURFACE.tif', DEST_PATH='dest_point/Destination', EMERGENCY_DIST=250, HARD_CONS_PATH='hard_constraints', ONE_CLASS=0, PERC_PAD=0.25, PYLON_DIST_MAX=250, PYLON_DIST_MIN=150, RASTER=10, SCENARIO=1, START_PATH='start_point/Start', WEIGHT_CSV='layer_weights.csv')\n"
     ]
    }
   ],
   "source": [
    "inst=\"belgium\"\n",
    "scale=5\n",
    "with open(f\"../data/{inst}_data_1_{scale}.dat\", \"rb\") as infile:\n",
    "    (belgium_inst, belgium_edge_inst, belgium_inst_corr, belgium_config) = pickle.load(infile)\n",
    "print(belgium_config.data)\n",
    "belgium_config.data.pylon_dist_min = belgium_config.data.PYLON_DIST_MIN\n",
    "del belgium_config.data.PYLON_DIST_MIN\n",
    "belgium_config.data.pylon_dist_max = belgium_config.data.PYLON_DIST_MAX\n",
    "del belgium_config.data.PYLON_DIST_MAX\n",
    "belgium_config.data.cable_forbidden = belgium_config.data.CABLE_FORBIDDEN\n",
    "del belgium_config.data.CABLE_FORBIDDEN\n",
    "belgium_config.data.corr_path = belgium_config.data.CORR_PATH\n",
    "del belgium_config.data.CORR_PATH\n",
    "belgium_config.data.cost_path = belgium_config.data.COST_PATH\n",
    "del belgium_config.data.COST_PATH\n",
    "belgium_config.data.dest_path = belgium_config.data.DEST_PATH\n",
    "del belgium_config.data.DEST_PATH\n",
    "belgium_config.data.emergency_dist = belgium_config.data.EMERGENCY_DIST\n",
    "del belgium_config.data.EMERGENCY_DIST\n",
    "belgium_config.data.hard_cons_path = belgium_config.data.HARD_CONS_PATH\n",
    "del belgium_config.data.HARD_CONS_PATH\n",
    "belgium_config.data.one_class = belgium_config.data.ONE_CLASS\n",
    "del belgium_config.data.ONE_CLASS\n",
    "belgium_config.data.perc_pad = belgium_config.data.PERC_PAD\n",
    "del belgium_config.data.PERC_PAD\n",
    "belgium_config.data.raster = belgium_config.data.RASTER\n",
    "del belgium_config.data.RASTER\n",
    "belgium_config.data.scenario = belgium_config.data.SCENARIO\n",
    "del belgium_config.data.SCENARIO\n",
    "belgium_config.data.start_path = belgium_config.data.START_PATH\n",
    "del belgium_config.data.START_PATH\n",
    "belgium_config.data.weight_csv = belgium_config.data.WEIGHT_CSV\n",
    "del belgium_config.data.WEIGHT_CSV\n",
    "# del belgium_config.graph.PYLON_DIST_MIN\n",
    "# belgium_config.graph.pylon_dist_max = belgium_config.graph.PYLON_DIST_MAX\n",
    "# del belgium_config.graph.PYLON_DIST_MAX\n",
    "# belgium_config.graph.max_angle_lg = belgium_config.graph.MAX_ANGLE_LG\n",
    "# del belgium_config.graph.MAX_ANGLE_LG\n",
    "# belgium_config.graph.max_angle = belgium_config.graph.MAX_ANGLE\n",
    "# del belgium_config.graph.MAX_ANGLE\n",
    "# belgium_config.graph.angle_weight = belgium_config.graph.ANGLE_WEIGHT\n",
    "# del belgium_config.graph.ANGLE_WEIGHT\n",
    "# belgium_config.graph.edge_weight = belgium_config.graph.EDGE_WEIGHT\n",
    "# del belgium_config.graph.EDGE_WEIGHT\n",
    "# belgium_config.graph.csv_times = belgium_config.graph.CSV_TIMES\n",
    "# del belgium_config.graph.CSV_TIMES\n",
    "# belgium_config.graph.verbose = belgium_config.graph.VERBOSE\n",
    "# del belgium_config.graph.VERBOSE\n",
    "# belgium_config.graph.k = belgium_config.graph.KSP\n",
    "# del belgium_config.graph.KSP\n",
    "# del belgium_config.graph.GTNX"
   ]
  },
  {
   "cell_type": "code",
   "execution_count": 41,
   "metadata": {},
   "outputs": [
    {
     "data": {
      "text/plain": [
       "namespace(angle_weight=0.4, class_weights=[1, 1, 1], csv_times='../outputs/time_tests.csv', dest_inds=array([307, 618]), edge_weight=0.33, k=5, layer_classes=['Bau/Unterhalt', 'Raumplanung', 'Umwelt-/Biotopschutz'], max_angle=1.57079632679489, max_angle_lg=1.57079632679489, orig_dest=array([1537, 3093]), orig_start=array([1154,   34]), pylon_dist_max=5.0, pylon_dist_min=3.0, scale=5, start_inds=array([230,   6]), transform_matrix=Affine(10.0, 0.0, 2598830.0639,\n",
       "       0.0, -10.0, 1261728.0546), verbose=1)"
      ]
     },
     "execution_count": 41,
     "metadata": {},
     "output_type": "execute_result"
    }
   ],
   "source": [
    "belgium_config.graph"
   ]
  },
  {
   "cell_type": "code",
   "execution_count": 30,
   "metadata": {},
   "outputs": [
    {
     "data": {
      "text/plain": [
       "namespace(CABLE_FORBIDDEN=1, CORR_PATH='corridor/Corridor.tif', COST_PATH='COSTSURFACE.tif', DEST_PATH='dest_point/Destination', EMERGENCY_DIST=-1, HARD_CONS_PATH='hard_constraints', ONE_CLASS=1, PERC_PAD=-1, PYLON_DIST_MAX=500, PYLON_DIST_MIN=350, RASTER=10, SCENARIO=1, START_PATH='start_point/Start', WEIGHT_CSV='layer_weights.csv')"
      ]
     },
     "execution_count": 30,
     "metadata": {},
     "output_type": "execute_result"
    }
   ],
   "source": [
    "belgium_config.data"
   ]
  },
  {
   "cell_type": "code",
   "execution_count": 48,
   "metadata": {},
   "outputs": [],
   "source": [
    "for inst in [\"ch\"]: # \"belgium\", \"de\", \n",
    "    for scale in [5]:\n",
    "        with open(f\"../data/{inst}_data_1_{scale}.dat\", \"rb\") as infile:\n",
    "            (belgium_inst, belgium_edge_inst, belgium_inst_corr, belgium_config) = pickle.load(infile)\n",
    "\n",
    "        # belgium_config.graph.pylon_dist_min = belgium_config.graph.PYLON_DIST_MIN\n",
    "        # del belgium_config.graph.PYLON_DIST_MIN\n",
    "        # belgium_config.graph.pylon_dist_max = belgium_config.graph.PYLON_DIST_MAX\n",
    "        # del belgium_config.graph.PYLON_DIST_MAX\n",
    "        # belgium_config.graph.max_angle_lg = belgium_config.graph.MAX_ANGLE_LG\n",
    "        # del belgium_config.graph.MAX_ANGLE_LG\n",
    "        # belgium_config.graph.max_angle = belgium_config.graph.MAX_ANGLE\n",
    "        # del belgium_config.graph.MAX_ANGLE\n",
    "        # belgium_config.graph.angle_weight = belgium_config.graph.ANGLE_WEIGHT\n",
    "        # del belgium_config.graph.ANGLE_WEIGHT\n",
    "        # belgium_config.graph.edge_weight = belgium_config.graph.EDGE_WEIGHT\n",
    "        # del belgium_config.graph.EDGE_WEIGHT\n",
    "        # belgium_config.graph.csv_times = belgium_config.graph.CSV_TIMES\n",
    "        # del belgium_config.graph.CSV_TIMES\n",
    "        # belgium_config.graph.verbose = belgium_config.graph.VERBOSE\n",
    "        # del belgium_config.graph.VERBOSE\n",
    "        # belgium_config.graph.k = belgium_config.graph.KSP\n",
    "        # del belgium_config.graph.KSP\n",
    "        # del belgium_config.graph.GTNX\n",
    "        \n",
    "        belgium_config.data.pylon_dist_min = belgium_config.data.PYLON_DIST_MIN\n",
    "        del belgium_config.data.PYLON_DIST_MIN\n",
    "        belgium_config.data.pylon_dist_max = belgium_config.data.PYLON_DIST_MAX\n",
    "        del belgium_config.data.PYLON_DIST_MAX\n",
    "        belgium_config.data.cable_forbidden = belgium_config.data.CABLE_FORBIDDEN\n",
    "        del belgium_config.data.CABLE_FORBIDDEN\n",
    "        belgium_config.data.corr_path = belgium_config.data.CORR_PATH\n",
    "        del belgium_config.data.CORR_PATH\n",
    "        belgium_config.data.cost_path = belgium_config.data.COST_PATH\n",
    "        del belgium_config.data.COST_PATH\n",
    "        belgium_config.data.dest_path = belgium_config.data.DEST_PATH\n",
    "        del belgium_config.data.DEST_PATH\n",
    "        belgium_config.data.emergency_dist = belgium_config.data.EMERGENCY_DIST\n",
    "        del belgium_config.data.EMERGENCY_DIST\n",
    "        belgium_config.data.hard_cons_path = belgium_config.data.HARD_CONS_PATH\n",
    "        del belgium_config.data.HARD_CONS_PATH\n",
    "        belgium_config.data.one_class = belgium_config.data.ONE_CLASS\n",
    "        del belgium_config.data.ONE_CLASS\n",
    "        belgium_config.data.perc_pad = belgium_config.data.PERC_PAD\n",
    "        del belgium_config.data.PERC_PAD\n",
    "        belgium_config.data.raster = belgium_config.data.RASTER\n",
    "        del belgium_config.data.RASTER\n",
    "        belgium_config.data.scenario = belgium_config.data.SCENARIO\n",
    "        del belgium_config.data.SCENARIO\n",
    "        belgium_config.data.start_path = belgium_config.data.START_PATH\n",
    "        del belgium_config.data.START_PATH\n",
    "        belgium_config.data.weight_csv = belgium_config.data.WEIGHT_CSV\n",
    "        del belgium_config.data.WEIGHT_CSV\n",
    "        \n",
    "        with open(f\"../data/{inst}_data_1_{scale}.dat\", \"wb\") as infile:\n",
    "            pickle.dump((belgium_inst, belgium_edge_inst, belgium_inst_corr, belgium_config), infile)"
   ]
  },
  {
   "cell_type": "markdown",
   "metadata": {},
   "source": [
    "### json change"
   ]
  },
  {
   "cell_type": "code",
   "execution_count": 35,
   "metadata": {},
   "outputs": [],
   "source": [
    "import json"
   ]
  },
  {
   "cell_type": "code",
   "execution_count": 40,
   "metadata": {},
   "outputs": [],
   "source": [
    "for inst in [\"ch\", \"de\", \"belgium\"]: # \"belgium\", \"de\", \n",
    "    with open(f\"../../data/instance_{inst}.nosync/{inst}_config.json\", \"r\") as infile:\n",
    "        new_dict = {}\n",
    "        dict_config = json.load(infile)\n",
    "        for over_key in [\"data\", \"graph\"]:\n",
    "            inner_dict = {}\n",
    "            for key in dict_config[over_key].keys():\n",
    "                inner_dict[key.lower()] = dict_config[over_key][key]\n",
    "            new_dict[over_key] = inner_dict\n",
    "    with open(f\"../../data/instance_{inst}.nosync/{inst}_config.json\", \"w\") as outfile:\n",
    "        json.dump(new_dict, outfile, indent=4)\n",
    "# json.dumps(parsed, indent=4, sort_keys=True"
   ]
  },
  {
   "cell_type": "markdown",
   "metadata": {},
   "source": [
    "### Write dataset (with profile) to change tif shape"
   ]
  },
  {
   "cell_type": "code",
   "execution_count": null,
   "metadata": {},
   "outputs": [],
   "source": [
    "from scipy.ndimage.morphology import binary_erosion, binary_dilation"
   ]
  },
  {
   "cell_type": "code",
   "execution_count": null,
   "metadata": {},
   "outputs": [],
   "source": [
    "fp = 'I_1422_Wald_ohne_Bedeutung.tif' \n",
    "#  #\n",
    "with rasterio.open(fp, 'r') as ds:\n",
    "    layer = ds.read()[0]\n",
    "    print(layer.shape)\n",
    "    transform_matrix = ds.transform\n",
    "    a = ds.dataset_mask()# / 255.\n",
    "    print(transform_matrix)\n",
    "    # layer[layer==0] = 1\n",
    "    plt.imshow(layer.astype(np.uint8))\n",
    "    plt.colorbar()\n",
    "    plt.show()\n",
    "    print(np.unique(layer))\n",
    "    layer = layer[:,:-1]\n",
    "    print(layer.shape)\n",
    "    # mod_layer = (layer==1).astype(int) # [:-1,:-1]\n",
    "    # mod_layer = \n",
    "    # for _ in range(10):\n",
    "    #    mod_layer = binary_erosion(mod_layer)\n",
    "    profile_dict = ds.profile\n",
    "    with rasterio.open('I_1422_Wald_ohne_Bedeutung.tif', 'w', **profile_dict) as dst:\n",
    "         dst.write(layer.astype(np.uint8), 1)\n",
    "    # \n",
    "\n",
    "print(len(np.unique(layer)))"
   ]
  },
  {
   "cell_type": "code",
   "execution_count": null,
   "metadata": {},
   "outputs": [],
   "source": [
    "os.path.exists(\"../../data/instance_CH.nosync/corridor/Corridor.tif\")"
   ]
  },
  {
   "cell_type": "code",
   "execution_count": null,
   "metadata": {},
   "outputs": [],
   "source": [
    "base = \"../../data/instance_CH.nosync/tif_layers\" # instance_DE.nosync/Suchraum.tif\"\n",
    "arr = []\n",
    "for fp in os.listdir(base):\n",
    "    if os.path.exists(os.path.join(base, fp)) and fp[0]!=\".\":\n",
    "        with rasterio.open(os.path.join(base, fp) , 'r') as ds: # os.path.join(base,\"Corridor.tif\")\n",
    "            layer = ds.read()[0]\n",
    "            # transform_matrix = ds.transform\n",
    "            arr.append((layer == 1).astype(int))\n",
    "arr = np.asarray(arr)"
   ]
  },
  {
   "cell_type": "code",
   "execution_count": null,
   "metadata": {},
   "outputs": [],
   "source": [
    "arr.shape"
   ]
  },
  {
   "cell_type": "code",
   "execution_count": null,
   "metadata": {},
   "outputs": [],
   "source": [
    "all_layers = np.sum(arr, axis=0)"
   ]
  },
  {
   "cell_type": "code",
   "execution_count": null,
   "metadata": {},
   "outputs": [],
   "source": [
    "plt.figure(figsize=(10,10))\n",
    "plt.imshow(LWZ)\n",
    "plt.colorbar()\n",
    "plt.show()"
   ]
  },
  {
   "cell_type": "code",
   "execution_count": null,
   "metadata": {},
   "outputs": [],
   "source": [
    "LWZ = ((all_layers==0).astype(int)).astype(np.uint8)"
   ]
  },
  {
   "cell_type": "code",
   "execution_count": null,
   "metadata": {},
   "outputs": [],
   "source": [
    "with rasterio.open(os.path.join(base, fp) , 'r') as ds:\n",
    "    profile_dict = ds.profile\n",
    "    with rasterio.open('Landwirtschaftszonen.tif', 'w', **profile_dict) as dst:\n",
    "        dst.write(LWZ.astype(np.uint8), 1)"
   ]
  },
  {
   "cell_type": "code",
   "execution_count": null,
   "metadata": {},
   "outputs": [],
   "source": [
    "base = \"../../data/instance_CH.nosync/corridor/Corridor.tif\" # instance_DE.nosync/Suchraum.tif\"\n",
    "with rasterio.open(base , 'r') as ds: # os.path.join(base,\"Corridor.tif\")\n",
    "    layer = ds.read()[0]\n",
    "    transform_matrix = ds.transform\n",
    "    print(layer.shape)\n",
    "    print(np.unique(layer))\n",
    "    plt.imshow(layer)\n",
    "    plt.colorbar()\n",
    "    plt.show()"
   ]
  },
  {
   "cell_type": "code",
   "execution_count": null,
   "metadata": {},
   "outputs": [],
   "source": [
    "base = \"../../data/large_instance/corridor\"\n",
    "with rasterio.open(os.path.join(base,\"Corridor.tif\"), \"r\") as infile:\n",
    "    layer = ds.dataset_mask() / 255\n",
    "    print(layer.shape)\n",
    "    print(np.unique(layer, return_counts=True))\n",
    "    transform_matrix = ds.transform\n",
    "    a = ds.dataset_mask()# / 255.\n",
    "    print(transform_matrix)"
   ]
  },
  {
   "cell_type": "code",
   "execution_count": null,
   "metadata": {},
   "outputs": [],
   "source": [
    "import shapefile\n",
    "def get_shape_polygon(path, transform_matrix):\n",
    "    sf = shapefile.Reader(path)\n",
    "    polygon_point = sf.shapes()[0].points\n",
    "    points = []\n",
    "    for p in polygon_point:\n",
    "        transformed = ~transform_matrix * p\n",
    "        points.append(transformed)\n",
    "    # resized = np.asarray(transformed) / self.scale_factor\n",
    "    # return resized.astype(int) + self.padding, np.asarray(transformed).astype(int)\n",
    "    return np.asarray(points).astype(int)"
   ]
  },
  {
   "cell_type": "code",
   "execution_count": null,
   "metadata": {},
   "outputs": [],
   "source": [
    "arr = get_shape_polygon(\"../../data/instance_CH.nosync/Scenario_BAFU/Scenario_BAFU\", transform_matrix)\n"
   ]
  },
  {
   "cell_type": "code",
   "execution_count": null,
   "metadata": {},
   "outputs": [],
   "source": [
    "plt.scatter(arr[:,0], arr[:,1])"
   ]
  },
  {
   "cell_type": "markdown",
   "metadata": {},
   "source": [
    "### data"
   ]
  },
  {
   "cell_type": "code",
   "execution_count": null,
   "metadata": {},
   "outputs": [],
   "source": [
    "import pickle\n",
    "with open(\"../../data/instance_CH.nosync/ch_dump_s1_1.dat\", \"rb\") as infile:\n",
    "    data = pickle.load(infile)\n",
    "    (instance, instance_corr, start_inds, dest_inds) = data.data"
   ]
  },
  {
   "cell_type": "code",
   "execution_count": null,
   "metadata": {},
   "outputs": [],
   "source": [
    "instance.shape"
   ]
  },
  {
   "cell_type": "code",
   "execution_count": null,
   "metadata": {},
   "outputs": [],
   "source": [
    "visualize_corr = 1 - instance_corr\n",
    "visualize_corr[visualize_corr == 1] = np.inf\n",
    "plt.figure(figsize=(8, 5))\n",
    "plt.imshow(np.sum(instance, axis=0) + visualize_corr)\n",
    "plt.colorbar()\n",
    "plt.show()"
   ]
  },
  {
   "cell_type": "code",
   "execution_count": null,
   "metadata": {},
   "outputs": [],
   "source": [
    "a = np.sum(instance, axis=0) + visualize_corr\n",
    "plt.imshow(a==0)"
   ]
  },
  {
   "cell_type": "code",
   "execution_count": null,
   "metadata": {},
   "outputs": [],
   "source": [
    "data.class_weights"
   ]
  },
  {
   "cell_type": "markdown",
   "metadata": {},
   "source": [
    "### List shapes of all layers"
   ]
  },
  {
   "cell_type": "code",
   "execution_count": null,
   "metadata": {},
   "outputs": [],
   "source": [
    "fp = \"../../data/Instance_CH/tif_layers/\"\n",
    "for f in os.listdir(fp):\n",
    "    if f[-3:]!= \"tif\":\n",
    "        continue\n",
    "    with rasterio.open(fp+f, 'r') as ds:\n",
    "        layer = ds.read()[0] \n",
    "    print(f, np.unique(layer, return_counts=True))\n",
    "    # plt.imshow(layer)\n",
    "    # plt.show()"
   ]
  },
  {
   "cell_type": "markdown",
   "metadata": {},
   "source": [
    "## Find common ground"
   ]
  },
  {
   "cell_type": "code",
   "execution_count": null,
   "metadata": {},
   "outputs": [],
   "source": [
    "with rasterio.open(os.path.join(base, \"instance_DE.nosync\", \"corridor\", \"Corridor.tif\"), 'r') as ds:\n",
    "    layer = (ds.read()[0]==1).astype(int)\n",
    "print(layer.shape)"
   ]
  },
  {
   "cell_type": "code",
   "execution_count": null,
   "metadata": {
    "scrolled": false
   },
   "outputs": [],
   "source": [
    "base = \"../../\"\n",
    "for data in os.listdir(base):\n",
    "    if data!=\".DS_Store\":\n",
    "        print(data)\n",
    "        with rasterio.open(os.path.join(base, data, \"corridor\", \"Corridor.tif\"), 'r') as ds:\n",
    "            # layer_mask = ds.dataset_mask() / 255\n",
    "            layer = ds.read()[0]\n",
    "        print(layer.shape)\n",
    "        print(np.unique(layer), np.unique(layer_mask))\n",
    "        plt.imshow((layer==np.max(layer)).astype(int))\n",
    "        print(np.sum(layer==np.max(layer)).astype(int))\n",
    "        plt.colorbar()\n",
    "        plt.show()\n",
    "        "
   ]
  },
  {
   "cell_type": "code",
   "execution_count": null,
   "metadata": {},
   "outputs": [],
   "source": [
    "os.path.exists(os.path.join(base, \"instance_DE.nosync\",\"tif_layers\", \"I_2711_Bodendenkmaeler.tif\"))"
   ]
  },
  {
   "cell_type": "code",
   "execution_count": null,
   "metadata": {},
   "outputs": [],
   "source": [
    "tuple([1]) + (2,3)"
   ]
  },
  {
   "cell_type": "code",
   "execution_count": null,
   "metadata": {},
   "outputs": [],
   "source": [
    "hard_constraints = np.all(\n",
    "            np.asarray([]).astype(int), axis=0\n",
    "        )"
   ]
  },
  {
   "cell_type": "markdown",
   "metadata": {},
   "source": [
    "## Import shape point"
   ]
  },
  {
   "cell_type": "code",
   "execution_count": null,
   "metadata": {},
   "outputs": [],
   "source": [
    "import shapefile"
   ]
  },
  {
   "cell_type": "code",
   "execution_count": null,
   "metadata": {},
   "outputs": [],
   "source": [
    "def shape_point(shape_path, transform_matrix):\n",
    "    sf = shapefile.Reader(shape_path)\n",
    "    startendpoint = sf.shapes()[0].points\n",
    "    transformed = ~transform_matrix * startendpoint[0]\n",
    "    return np.array(transformed).astype(int)\n",
    "base_path = \"../../Instance_CH.nosync/\"\n",
    "interm = \"interm_1/interm_1\"\n",
    "start = \"start_point/Start\"\n",
    "dest = \"dest_point/Destination\""
   ]
  },
  {
   "cell_type": "code",
   "execution_count": null,
   "metadata": {},
   "outputs": [],
   "source": [
    "s = shape_point(base_path+start, transform_matrix)\n",
    "i = shape_point(base_path+interm, transform_matrix)\n",
    "d = shape_point(base_path+dest, transform_matrix)\n",
    "plt.scatter(*i)\n",
    "plt.scatter(*s)\n",
    "plt.scatter(*d)\n",
    "plt.imshow(SOME LAYER HERE)\n",
    "plt.show()"
   ]
  },
  {
   "cell_type": "markdown",
   "metadata": {},
   "source": [
    "### Save as tif"
   ]
  },
  {
   "cell_type": "code",
   "execution_count": null,
   "metadata": {},
   "outputs": [],
   "source": [
    "from PIL import Image"
   ]
  },
  {
   "cell_type": "code",
   "execution_count": null,
   "metadata": {},
   "outputs": [],
   "source": [
    "img = Image.fromarray(layer)\n",
    "img.save(os.path.join(\"../../Instance_CH.nosync/\", \"Flugplatz.tif\")) # df.loc[i][\"class\"]\n",
    "# plt.imshow(img)\n",
    "# plt.savefig(os.path.join"
   ]
  },
  {
   "cell_type": "markdown",
   "metadata": {},
   "source": [
    "## Create tif layers for figure"
   ]
  },
  {
   "cell_type": "code",
   "execution_count": null,
   "metadata": {},
   "outputs": [],
   "source": [
    "from PIL import Image\n",
    "figure_path = \"../../figure/layers\""
   ]
  },
  {
   "cell_type": "code",
   "execution_count": null,
   "metadata": {},
   "outputs": [],
   "source": [
    "together_arr = []\n",
    "for i in range(len(arr)):\n",
    "    print(df.loc[i][\"class\"])\n",
    "    n,c = np.unique(arr[i], return_counts=True)\n",
    "    if c[1]>100000:\n",
    "        img = Image.fromarray(arr[i])\n",
    "        m,n = arr[i].shape\n",
    "        img = img.resize((m//10, n//10), resample=Image.BILINEAR)\n",
    "        together_arr.append(np.array(img))\n",
    "        img.save(os.path.join(figure_path, str(i)+\".tif\")) # df.loc[i][\"class\"]\n",
    "        # plt.imshow(img)\n",
    "        # plt.savefig(os.path.join(figure_path,df.loc[i][\"class\"], str(i)+\".jpg\"))"
   ]
  },
  {
   "cell_type": "code",
   "execution_count": null,
   "metadata": {},
   "outputs": [],
   "source": [
    "together_arr = np.asarray(together_arr)\n",
    "print(together_arr.shape)\n",
    "plt.imshow(np.sum(together_arr, axis=0), cmap='Greys')\n",
    "plt.axis(\"off\")\n",
    "plt.tight_layout()\n",
    "plt.savefig(\"together.png\")"
   ]
  },
  {
   "cell_type": "markdown",
   "metadata": {},
   "source": [
    "### Config lower case"
   ]
  },
  {
   "cell_type": "code",
   "execution_count": 9,
   "metadata": {},
   "outputs": [],
   "source": [
    "path = \"../data\"        \n",
    "import pickle"
   ]
  },
  {
   "cell_type": "code",
   "execution_count": 14,
   "metadata": {},
   "outputs": [
    {
     "name": "stdout",
     "output_type": "stream",
     "text": [
      "CSV_TIMES\n",
      "MAX_ANGLE\n",
      "MAX_ANGLE_LG\n",
      "VERBOSE\n",
      "GTNX\n",
      "ANGLE_WEIGHT\n",
      "EDGE_WEIGHT\n",
      "KSP\n",
      "PYLON_DIST_MIN\n",
      "PYLON_DIST_MAX\n",
      "transform_matrix\n",
      "scale\n",
      "orig_start\n",
      "orig_dest\n",
      "dest_inds\n",
      "start_inds\n",
      "layer_classes\n",
      "class_weights\n",
      "HARD_CONS_PATH\n",
      "CORR_PATH\n",
      "COST_PATH\n",
      "START_PATH\n",
      "DEST_PATH\n",
      "WEIGHT_CSV\n",
      "RASTER\n",
      "SCENARIO\n",
      "PYLON_DIST_MIN\n",
      "PYLON_DIST_MAX\n",
      "CABLE_FORBIDDEN\n",
      "ONE_CLASS\n",
      "PERC_PAD\n",
      "EMERGENCY_DIST\n",
      "CSV_TIMES\n",
      "MAX_ANGLE\n",
      "MAX_ANGLE_LG\n",
      "VERBOSE\n",
      "GTNX\n",
      "ANGLE_WEIGHT\n",
      "EDGE_WEIGHT\n",
      "KSP\n",
      "PYLON_DIST_MIN\n",
      "PYLON_DIST_MAX\n",
      "transform_matrix\n",
      "scale\n",
      "orig_start\n",
      "orig_dest\n",
      "dest_inds\n",
      "start_inds\n",
      "layer_classes\n",
      "class_weights\n",
      "HARD_CONS_PATH\n",
      "CORR_PATH\n",
      "COST_PATH\n",
      "START_PATH\n",
      "DEST_PATH\n",
      "WEIGHT_CSV\n",
      "RASTER\n",
      "SCENARIO\n",
      "PYLON_DIST_MIN\n",
      "PYLON_DIST_MAX\n",
      "CABLE_FORBIDDEN\n",
      "ONE_CLASS\n",
      "PERC_PAD\n",
      "EMERGENCY_DIST\n",
      "CSV_TIMES\n",
      "MAX_ANGLE\n",
      "MAX_ANGLE_LG\n",
      "VERBOSE\n",
      "GTNX\n",
      "ANGLE_WEIGHT\n",
      "EDGE_WEIGHT\n",
      "KSP\n",
      "PYLON_DIST_MIN\n",
      "PYLON_DIST_MAX\n",
      "transform_matrix\n",
      "scale\n",
      "orig_start\n",
      "orig_dest\n",
      "dest_inds\n",
      "start_inds\n",
      "layer_classes\n",
      "class_weights\n",
      "HARD_CONS_PATH\n",
      "CORR_PATH\n",
      "COST_PATH\n",
      "START_PATH\n",
      "DEST_PATH\n",
      "WEIGHT_CSV\n",
      "RASTER\n",
      "SCENARIO\n",
      "PYLON_DIST_MIN\n",
      "PYLON_DIST_MAX\n",
      "CABLE_FORBIDDEN\n",
      "ONE_CLASS\n",
      "PERC_PAD\n",
      "EMERGENCY_DIST\n",
      "CSV_TIMES\n",
      "MAX_ANGLE\n",
      "MAX_ANGLE_LG\n",
      "VERBOSE\n",
      "GTNX\n",
      "ANGLE_WEIGHT\n",
      "EDGE_WEIGHT\n",
      "KSP\n",
      "PYLON_DIST_MIN\n",
      "PYLON_DIST_MAX\n",
      "transform_matrix\n",
      "scale\n",
      "orig_start\n",
      "orig_dest\n",
      "dest_inds\n",
      "start_inds\n",
      "layer_classes\n",
      "class_weights\n",
      "HARD_CONS_PATH\n",
      "CORR_PATH\n",
      "COST_PATH\n",
      "START_PATH\n",
      "DEST_PATH\n",
      "WEIGHT_CSV\n",
      "RASTER\n",
      "SCENARIO\n",
      "PYLON_DIST_MIN\n",
      "PYLON_DIST_MAX\n",
      "CABLE_FORBIDDEN\n",
      "ONE_CLASS\n",
      "PERC_PAD\n",
      "EMERGENCY_DIST\n",
      "CSV_TIMES\n",
      "MAX_ANGLE\n",
      "MAX_ANGLE_LG\n",
      "VERBOSE\n",
      "GTNX\n",
      "ANGLE_WEIGHT\n",
      "EDGE_WEIGHT\n",
      "KSP\n",
      "PYLON_DIST_MIN\n",
      "PYLON_DIST_MAX\n",
      "transform_matrix\n",
      "scale\n",
      "orig_start\n",
      "orig_dest\n",
      "dest_inds\n",
      "start_inds\n",
      "layer_classes\n",
      "class_weights\n",
      "HARD_CONS_PATH\n",
      "CORR_PATH\n",
      "COST_PATH\n",
      "START_PATH\n",
      "DEST_PATH\n",
      "WEIGHT_CSV\n",
      "RASTER\n",
      "SCENARIO\n",
      "PYLON_DIST_MIN\n",
      "PYLON_DIST_MAX\n",
      "CABLE_FORBIDDEN\n",
      "ONE_CLASS\n",
      "PERC_PAD\n",
      "EMERGENCY_DIST\n",
      "CSV_TIMES\n",
      "MAX_ANGLE\n",
      "MAX_ANGLE_LG\n",
      "VERBOSE\n",
      "GTNX\n",
      "ANGLE_WEIGHT\n",
      "EDGE_WEIGHT\n",
      "KSP\n",
      "PYLON_DIST_MIN\n",
      "PYLON_DIST_MAX\n",
      "transform_matrix\n",
      "scale\n",
      "orig_start\n",
      "orig_dest\n",
      "dest_inds\n",
      "start_inds\n",
      "layer_classes\n",
      "class_weights\n",
      "HARD_CONS_PATH\n",
      "CORR_PATH\n",
      "COST_PATH\n",
      "START_PATH\n",
      "DEST_PATH\n",
      "WEIGHT_CSV\n",
      "RASTER\n",
      "SCENARIO\n",
      "PYLON_DIST_MIN\n",
      "PYLON_DIST_MAX\n",
      "CABLE_FORBIDDEN\n",
      "ONE_CLASS\n",
      "PERC_PAD\n",
      "EMERGENCY_DIST\n",
      "CSV_TIMES\n",
      "MAX_ANGLE\n",
      "MAX_ANGLE_LG\n",
      "VERBOSE\n",
      "GTNX\n",
      "ANGLE_WEIGHT\n",
      "EDGE_WEIGHT\n",
      "KSP\n",
      "PYLON_DIST_MIN\n",
      "PYLON_DIST_MAX\n",
      "transform_matrix\n",
      "scale\n",
      "orig_start\n",
      "orig_dest\n",
      "dest_inds\n",
      "start_inds\n",
      "layer_classes\n",
      "class_weights\n",
      "HARD_CONS_PATH\n",
      "CORR_PATH\n",
      "COST_PATH\n",
      "START_PATH\n",
      "DEST_PATH\n",
      "WEIGHT_CSV\n",
      "RASTER\n",
      "SCENARIO\n",
      "PYLON_DIST_MIN\n",
      "PYLON_DIST_MAX\n",
      "CABLE_FORBIDDEN\n",
      "ONE_CLASS\n",
      "PERC_PAD\n",
      "EMERGENCY_DIST\n",
      "CSV_TIMES\n",
      "MAX_ANGLE\n",
      "MAX_ANGLE_LG\n",
      "VERBOSE\n",
      "GTNX\n",
      "ANGLE_WEIGHT\n",
      "EDGE_WEIGHT\n",
      "KSP\n",
      "PYLON_DIST_MIN\n",
      "PYLON_DIST_MAX\n",
      "transform_matrix\n",
      "scale\n",
      "orig_start\n",
      "orig_dest\n",
      "dest_inds\n",
      "start_inds\n",
      "layer_classes\n",
      "class_weights\n",
      "HARD_CONS_PATH\n",
      "CORR_PATH\n",
      "COST_PATH\n",
      "START_PATH\n",
      "DEST_PATH\n",
      "WEIGHT_CSV\n",
      "RASTER\n",
      "SCENARIO\n",
      "PYLON_DIST_MIN\n",
      "PYLON_DIST_MAX\n",
      "CABLE_FORBIDDEN\n",
      "ONE_CLASS\n",
      "PERC_PAD\n",
      "EMERGENCY_DIST\n",
      "CSV_TIMES\n",
      "MAX_ANGLE\n",
      "MAX_ANGLE_LG\n",
      "VERBOSE\n",
      "GTNX\n",
      "ANGLE_WEIGHT\n",
      "EDGE_WEIGHT\n",
      "KSP\n",
      "PYLON_DIST_MIN\n",
      "PYLON_DIST_MAX\n",
      "transform_matrix\n",
      "scale\n",
      "orig_start\n",
      "orig_dest\n",
      "dest_inds\n",
      "start_inds\n",
      "layer_classes\n",
      "class_weights\n",
      "HARD_CONS_PATH\n",
      "CORR_PATH\n",
      "COST_PATH\n",
      "START_PATH\n",
      "DEST_PATH\n",
      "WEIGHT_CSV\n",
      "RASTER\n",
      "SCENARIO\n",
      "PYLON_DIST_MIN\n",
      "PYLON_DIST_MAX\n",
      "CABLE_FORBIDDEN\n",
      "ONE_CLASS\n",
      "PERC_PAD\n",
      "EMERGENCY_DIST\n",
      "CSV_TIMES\n",
      "MAX_ANGLE\n",
      "MAX_ANGLE_LG\n",
      "VERBOSE\n",
      "GTNX\n",
      "ANGLE_WEIGHT\n",
      "EDGE_WEIGHT\n",
      "KSP\n",
      "PYLON_DIST_MIN\n",
      "PYLON_DIST_MAX\n",
      "transform_matrix\n",
      "scale\n",
      "orig_start\n",
      "orig_dest\n",
      "dest_inds\n",
      "start_inds\n",
      "layer_classes\n",
      "class_weights\n",
      "HARD_CONS_PATH\n",
      "CORR_PATH\n",
      "COST_PATH\n",
      "START_PATH\n",
      "DEST_PATH\n",
      "WEIGHT_CSV\n",
      "RASTER\n",
      "SCENARIO\n",
      "PYLON_DIST_MIN\n",
      "PYLON_DIST_MAX\n",
      "CABLE_FORBIDDEN\n",
      "ONE_CLASS\n",
      "PERC_PAD\n",
      "EMERGENCY_DIST\n"
     ]
    }
   ],
   "source": [
    "for fn in os.listdir(path):\n",
    "    if fn.endswith(\"dat\"):\n",
    "        new_config = SimpleNamespace()\n",
    "        with open(os.path.join(path, fn), \"rb\") as infile:\n",
    "            data = pickle.load(infile)\n",
    "            (instance, edge_inst, instance_corr, config) = data\n",
    "        for name in [\"graph\", \"data\"]:\n",
    "            cfg.data = SimpleNamespace(**cfg_dict[\"data\"])\n",
    "            cfg.graph = SimpleNamespace(**cfg_dict[\"graph\"])"
   ]
  },
  {
   "cell_type": "code",
   "execution_count": 17,
   "metadata": {},
   "outputs": [
    {
     "name": "stdout",
     "output_type": "stream",
     "text": [
      "[100 103] [200 207]\n"
     ]
    }
   ],
   "source": [
    "with open(os.path.join(path, \"de_data_1_2.dat\"), \"rb\") as infile:\n",
    "    data = pickle.load(infile)\n",
    "    (instance, edge_inst, instance_corr, config) = data\n",
    "    print(config.graph.start_inds, config.graph.orig_start)"
   ]
  },
  {
   "cell_type": "code",
   "execution_count": 18,
   "metadata": {},
   "outputs": [],
   "source": [
    "with open(\n",
    "    os.path.join(\"../data\", \"de_data_1_1.dat\"), \"rb\"\n",
    ") as infile:\n",
    "    (big_inst, _, _, _) = data"
   ]
  },
  {
   "cell_type": "code",
   "execution_count": 19,
   "metadata": {},
   "outputs": [
    {
     "data": {
      "text/plain": [
       "(1, 1862, 1539)"
      ]
     },
     "execution_count": 19,
     "metadata": {},
     "output_type": "execute_result"
    }
   ],
   "source": [
    "big_inst.shape"
   ]
  },
  {
   "cell_type": "code",
   "execution_count": null,
   "metadata": {},
   "outputs": [],
   "source": []
  }
 ],
 "metadata": {
  "kernelspec": {
   "display_name": "Python 3",
   "language": "python",
   "name": "python3"
  },
  "language_info": {
   "codemirror_mode": {
    "name": "ipython",
    "version": 3
   },
   "file_extension": ".py",
   "mimetype": "text/x-python",
   "name": "python",
   "nbconvert_exporter": "python",
   "pygments_lexer": "ipython3",
   "version": "3.8.2"
  }
 },
 "nbformat": 4,
 "nbformat_minor": 4
}
